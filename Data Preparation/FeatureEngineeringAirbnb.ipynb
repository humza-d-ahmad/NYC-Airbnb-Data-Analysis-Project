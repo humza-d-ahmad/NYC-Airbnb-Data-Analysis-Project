{
 "cells": [
  {
   "cell_type": "code",
   "execution_count": 93,
   "metadata": {},
   "outputs": [
    {
     "name": "stderr",
     "output_type": "stream",
     "text": [
      "[nltk_data] Downloading package vader_lexicon to\n",
      "[nltk_data]     C:\\Users\\Afif\\AppData\\Roaming\\nltk_data...\n",
      "[nltk_data]   Package vader_lexicon is already up-to-date!\n",
      "[nltk_data] Downloading package punkt_tab to\n",
      "[nltk_data]     C:\\Users\\Afif\\AppData\\Roaming\\nltk_data...\n",
      "[nltk_data]   Package punkt_tab is already up-to-date!\n"
     ]
    },
    {
     "data": {
      "text/plain": [
       "True"
      ]
     },
     "execution_count": 93,
     "metadata": {},
     "output_type": "execute_result"
    }
   ],
   "source": [
    "# Author: Afif Shomali\n",
    "# Imports & loading dataset\n",
    "import pandas as pd\n",
    "import numpy as np\n",
    "import ast\n",
    "import re\n",
    "from tqdm.auto import tqdm\n",
    "import requests\n",
    "from textstat import flesch_reading_ease\n",
    "\n",
    "# Imports for sentiment of reviews\n",
    "from nltk.sentiment.vader import SentimentIntensityAnalyzer as SIA\n",
    "import nltk\n",
    "import langdetect\n",
    "from joblib import Parallel, delayed\n",
    "import matplotlib.pyplot as plt\n",
    "\n",
    "nltk.download('vader_lexicon')\n",
    "nltk.download('punkt_tab')"
   ]
  },
  {
   "cell_type": "code",
   "execution_count": 94,
   "metadata": {},
   "outputs": [],
   "source": [
    "df = pd.read_csv(\"Datasets/AirbnbData/All_Listings_Cleaned.csv\")"
   ]
  },
  {
   "cell_type": "markdown",
   "metadata": {},
   "source": [
    "# Feature Engineering for the Airbnb Dataset\n",
    "Source: Inside Airbnb accessed at https://insideairbnb.com/get-the-data/ (Used New York City Datasets, used listings & reviews data)  \n",
    "License : [Creative Commons Attribution 4.0 International License](#https://creativecommons.org/licenses/by/4.0/)\n",
    "\n",
    "The listings dataset being used is one that has combined multiple months of data from Inside Airbnb, addtionaly, data preprocessing & cleaning was performed, see `PreProcessingAirbnb.ipynb` to see what changes were made.\n",
    "\n",
    "\n",
    "Steps overview:\n",
    "  - [Create Feautres based on the host verifications](#host-verification-status)\n",
    "  - [Create Features based on the amenities list](#amenities-column)\n",
    "  - [Using Reviews data, get sentiment of each review, the for each host create a review score column (use average/some sort of metric based on counts of sentiments), impute values for any hosts with no reviews](#creating-column-based-on-sentiment-of-reviews)\n",
    "  - [Extra: Try to create a Description/Title/host description/neighborhood overview column score based on the text from these columns, create some sort of metric that combines these into a new column](#creating-features-for-text-from-descriptiontitlehost-descriptionneighborhood-overview)\n",
    "  - [Extra: Create a Feature that takes the listing photo and assigns it some sort of rating](#creating-a-feature-based-on-a-rating-of-listing-photos)"
   ]
  },
  {
   "cell_type": "markdown",
   "metadata": {},
   "source": [
    "## Host Verification Status\n",
    "\n",
    "Since there are only 3 types of verification methods (phone, email, work_email), we can either create 3 binary columns or create a column that counts the number of verification methods. Some EDA will be done later to check which of these two options is better by comparing to the 2 response variables we will use later on in the analysis, Price & whether the host is a superhost."
   ]
  },
  {
   "cell_type": "code",
   "execution_count": 95,
   "metadata": {},
   "outputs": [],
   "source": [
    "# Change column of strings to column lists\n",
    "df[\"host_verifications\"] = df[\"host_verifications\"].apply(ast.literal_eval)\n",
    "\n",
    "# Create column for number of verifications the host has\n",
    "df[\"num_host_verifications\"] = df[\"host_verifications\"].apply(len)\n",
    "\n",
    "# Create columns for which types of verifications the host has\n",
    "df[\"host_phone_verified\"] = df[\"host_verifications\"].apply(lambda x: 'phone' in x)\n",
    "df[\"host_email_verified\"] = df[\"host_verifications\"].apply(lambda x: 'email' in x)\n",
    "df[\"host_work_email_verified\"] = df[\"host_verifications\"].apply(lambda x: 'work_email' in x)\n"
   ]
  },
  {
   "cell_type": "markdown",
   "metadata": {},
   "source": [
    "## Amenities Column \n",
    "\n",
    "We see that there are over 7000 variations (e.g. unique values) of amenities, so we have a few options, we can make a column that counts the number of amenities, or  \n",
    "since alot of the ammenities in the set describe the same amenity with some variation (e.g. HDTV with streaming services, kitchen, oven, etc.), we can take a subset of amenities to create binary columns for to check if a listing has those amenities.  \n",
    "For example, most of the elements of the amenities set below are just HDTV followed by a list of streaming services, we can make columns for if a listing contains a tv or if it contains contains a certain streaming service.\n",
    "Also we can simplify specific brands of appliances to just one column (e.g. oven, stove, fridge) and things such as shampoo, soap & conditioner.\n",
    "\n",
    "Here is the list of amenites we will create columns for after going through the set of amenities:\n",
    "- kitchen \n",
    "- oven\n",
    "- stove\n",
    "- refrigerator\n",
    "- air conditioning\n",
    "- sound system\n",
    "- wifi\n",
    "- tv\n",
    "- parking\n",
    "- gym/exercise equipment \n",
    "- pool\n",
    "- hygeine products (soap, shampoo, or conditioner)\n",
    "- laundry (if a listing contains a washer or dryer)\n",
    "- coffee \n",
    "- view\n"
   ]
  },
  {
   "cell_type": "code",
   "execution_count": null,
   "metadata": {},
   "outputs": [],
   "source": [
    "# Finding the unique values of ammenties\n",
    "amenities_set = set()\n",
    "\n",
    "for x in df[\"amenities\"]:\n",
    "    amen_list = ast.literal_eval(x)\n",
    "    amen_list = [x.lower().strip() for x in amen_list]\n",
    "    amenities_set.update(amen_list)\n",
    "print(len(amenities_set))\n",
    "# pprint.pprint(amenities_set)"
   ]
  },
  {
   "cell_type": "code",
   "execution_count": null,
   "metadata": {},
   "outputs": [],
   "source": [
    "# First convert amenities column to list of string all lowercase with no leading/trailing spaces\n",
    "df[\"amenities\"] = df[\"amenities\"].apply(ast.literal_eval).apply(lambda x: [amen.lower().strip() for amen in x])\n",
    "\n",
    "# Create total amenity count column\n",
    "df[\"num_amenities\"] = df[\"amenities\"].apply(len)\n",
    "\n",
    "# Create indivual amenity binary columns\n",
    "# Helper function, for each row checks for the keywords corresponding to the subset of ammenities\n",
    "# If the keyword is present in the amenities list, then the corresponding amenity column is labeled as true\n",
    "def populate_amens(row):\n",
    "    for amen in short_amenities.keys():\n",
    "\n",
    "        for keyword in short_amenities[amen]:\n",
    "            if any(re.search(r'\\b' + re.escape(keyword) + r'\\b', row_amens) for row_amens in row[\"amenities\"]):\n",
    "                row[amen] = True\n",
    "    return row\n",
    "\n",
    "# Dict of amenities to make columns for and their corresponding keywords  \n",
    "short_amenities = {\n",
    "    \"kitchen\": [\"kitchen\"], \n",
    "    \"oven\": [\"oven\"], \n",
    "    \"stove\": [\"stove\"], \n",
    "    \"refrigerator\": [\"refrigerator\", \"fridge\"], \n",
    "    \"air conditioning\": [\"air conditioning\", \"ac\"], \n",
    "    \"sound system\": [\"sound system\"], \n",
    "    \"wifi\": [\"wifi\"], \n",
    "    \"tv\": [\"hdtv\", \"tv\"], \n",
    "    \"parking\": [\"parking\", \"garage\"], \n",
    "    \"gym/exercise equipment\": [\"gym\", \"exercise equipment\"], \n",
    "    \"pool\" : [\"pool\"], \n",
    "    \"hygiene products\": [\"soap\", \"shampoo\", \"conditioner\"], \n",
    "    \"laundry\" : [\"washer\", \"dryer\"], \n",
    "    \"coffee\" : [\"coffee\"], \n",
    "    \"view\" : [\"view\"]\n",
    "}\n",
    "\n",
    "# Initalize columns\n",
    "for amen in short_amenities.keys():\n",
    "    df[amen]  = False\n",
    "\n",
    "# Apply helper function\n",
    "df = df.apply(\n",
    "    lambda row : populate_amens(row),\n",
    "    axis = 1\n",
    ")"
   ]
  },
  {
   "cell_type": "markdown",
   "metadata": {},
   "source": [
    "## Creating Column Based on Sentiment of Reviews\n",
    "**NOTE: using a reduced version of the dataset for the project submission so there won't be as many rows**  \n",
    "Want to start by combining the datasets & omitting duplicate reviews by using the id column in the reviews datasets. \n",
    "Then want to do some partial pre-processing \n",
    "\n",
    "We will use Vader to process the sentiment of reviews:  \n",
    "Hutto, C.J. & Gilbert, E.E. (2014). VADER: A Parsimonious Rule-based Model for\n",
    "Sentiment Analysis of Social Media Text. Eighth International Conference on\n",
    "Weblogs and Social Media (ICWSM-14). Ann Arbor, MI, June 2014.\n",
    "\n",
    "I roughly followed the steps in:\n",
    "https://github.com/cjhutto/vaderSentiment/blob/master/vaderSentiment/vaderSentiment.py#L517 \n",
    "\n",
    "Some of the reviews are not in English, Vader can only do sentiment analysis on English text  \n",
    "so we will make use of python langdetect library to drop the non english reviews \n",
    "\n",
    "Originally the plan was to translate reviews, however with around 100k non english reviews it was difficult to find an efficient way to do so.  \n",
    "Using the googletrans library, I ran into issues with either having too many requests or having to large of a request.  \n",
    "Using EasyNMT I ran into issues first with GPU memory limits running on kaggle, then trying with a better gpu in terms of memory on GCP I ran into issues with\n",
    "the speed of running the model would take around 24 hours.\n",
    "\n",
    "This does reduce our reviews dataset size by around 10% however it shouldn't cause too many issues since we still have nearly a million reviews \n",
    "\n",
    "Some listings will not have any reviews, however this won't be an issue since I am planning to use the average compound sentiment score which \n",
    "is a normalized score from -1 to 1, with zero being neutral, so hosts without any reviews will receive a zero average compound score making the sentiment \n",
    "of their reviews netural which makes the most sense from the perspective of replacing missing values."
   ]
  },
  {
   "cell_type": "code",
   "execution_count": 99,
   "metadata": {},
   "outputs": [
    {
     "name": "stdout",
     "output_type": "stream",
     "text": [
      "(947328, 6)\n",
      "(1040567, 6)\n"
     ]
    },
    {
     "data": {
      "text/html": [
       "<div>\n",
       "<style scoped>\n",
       "    .dataframe tbody tr th:only-of-type {\n",
       "        vertical-align: middle;\n",
       "    }\n",
       "\n",
       "    .dataframe tbody tr th {\n",
       "        vertical-align: top;\n",
       "    }\n",
       "\n",
       "    .dataframe thead th {\n",
       "        text-align: right;\n",
       "    }\n",
       "</style>\n",
       "<table border=\"1\" class=\"dataframe\">\n",
       "  <thead>\n",
       "    <tr style=\"text-align: right;\">\n",
       "      <th></th>\n",
       "      <th>listing_id</th>\n",
       "      <th>id</th>\n",
       "      <th>comments</th>\n",
       "    </tr>\n",
       "  </thead>\n",
       "  <tbody>\n",
       "    <tr>\n",
       "      <th>0</th>\n",
       "      <td>2595</td>\n",
       "      <td>17857</td>\n",
       "      <td>Notre séjour de trois nuits.\\r&lt;br/&gt;Nous avons ...</td>\n",
       "    </tr>\n",
       "    <tr>\n",
       "      <th>1</th>\n",
       "      <td>2595</td>\n",
       "      <td>19176</td>\n",
       "      <td>Great experience.</td>\n",
       "    </tr>\n",
       "    <tr>\n",
       "      <th>2</th>\n",
       "      <td>2595</td>\n",
       "      <td>19760</td>\n",
       "      <td>I've stayed with my friend at the Midtown Cast...</td>\n",
       "    </tr>\n",
       "    <tr>\n",
       "      <th>3</th>\n",
       "      <td>2595</td>\n",
       "      <td>34320</td>\n",
       "      <td>We've been staying here for about 9 nights, en...</td>\n",
       "    </tr>\n",
       "    <tr>\n",
       "      <th>4</th>\n",
       "      <td>2595</td>\n",
       "      <td>46312</td>\n",
       "      <td>We had a wonderful stay at Jennifer's charming...</td>\n",
       "    </tr>\n",
       "  </tbody>\n",
       "</table>\n",
       "</div>"
      ],
      "text/plain": [
       "   listing_id     id                                           comments\n",
       "0        2595  17857  Notre séjour de trois nuits.\\r<br/>Nous avons ...\n",
       "1        2595  19176                                  Great experience.\n",
       "2        2595  19760  I've stayed with my friend at the Midtown Cast...\n",
       "3        2595  34320  We've been staying here for about 9 nights, en...\n",
       "4        2595  46312  We had a wonderful stay at Jennifer's charming..."
      ]
     },
     "execution_count": 99,
     "metadata": {},
     "output_type": "execute_result"
    }
   ],
   "source": [
    "# Combine Datasets\n",
    "# Merging Step, don't run this part if only using subset\n",
    "reviews = pd.read_csv(\"Datasets/AirbnbReviews/SepReviews.csv\")\n",
    "\n",
    "# print(reviews.shape)\n",
    "\n",
    "# months = [\"Aug\", \"July\", \"June\", \"May\"]\n",
    "\n",
    "# for month in months:\n",
    "#     df_2 = pd.read_csv(f\"Datasets/AirbnbReviews/{month}Reviews.csv\")\n",
    "    \n",
    "#     reviews = pd.concat([\n",
    "#         reviews, \n",
    "#         df_2[df_2[\"id\"].isin(reviews[\"id\"]) == False]\n",
    "#     ]\n",
    "#     ).reset_index(drop=True)\n",
    "\n",
    "# print(reviews.shape)\n",
    "\n",
    "# # Fill N/A or blank comments with empty string\n",
    "# reviews[\"comments\"] = reviews[\"comments\"].fillna(\" \")\n",
    "\n",
    "# # Only keep columns relevant to reviews, which is listing_id, id & comments\n",
    "# reviews = reviews[[\"listing_id\", \"id\", \"comments\"]]\n",
    "\n",
    "reviews.head()"
   ]
  },
  {
   "cell_type": "code",
   "execution_count": null,
   "metadata": {},
   "outputs": [
    {
     "data": {
      "application/vnd.jupyter.widget-view+json": {
       "model_id": "479c21acd2d142448f09f0f9947d316a",
       "version_major": 2,
       "version_minor": 0
      },
      "text/plain": [
       "Detecting non-English comments:   0%|          | 0/1040567 [00:00<?, ?it/s]"
      ]
     },
     "metadata": {},
     "output_type": "display_data"
    }
   ],
   "source": [
    "# Find non-English reviews & drop them from the dataset\n",
    "# Use parallelization to speed up the process, gets us from around 400 it/s to 2000 it/s\n",
    "\n",
    "# Set language dection seed for consistency\n",
    "langdetect.DetectorFactory.seed = 0\n",
    "\n",
    "# Helper Function to find non english comments\n",
    "def non_english(text):\n",
    "    try:\n",
    "        lang = langdetect.detect(text)\n",
    "    except langdetect.LangDetectException:\n",
    "        lang = \"en\"\n",
    "    return lang != \"en\"\n",
    "\n",
    "# Find the indices & the corresponding comments in the dataframe in parallel\n",
    "non_english_idxs = Parallel(n_jobs=-1)(\n",
    "    delayed(non_english)(comment) for comment in tqdm(reviews['comments'], desc=\"Detecting non-English comments\")\n",
    ")"
   ]
  },
  {
   "cell_type": "code",
   "execution_count": null,
   "metadata": {},
   "outputs": [],
   "source": [
    "non_english_idxs.sum()"
   ]
  },
  {
   "cell_type": "code",
   "execution_count": null,
   "metadata": {},
   "outputs": [],
   "source": [
    "#  Remove non-english reviews\n",
    "reviews['non_english'] = non_english_idxs\n",
    "reviews = reviews[reviews['non_english'] == False].drop(columns=\"non_english\").reset_index(drop=True)"
   ]
  },
  {
   "cell_type": "code",
   "execution_count": null,
   "metadata": {},
   "outputs": [
    {
     "data": {
      "application/vnd.jupyter.widget-view+json": {
       "model_id": "616815d9c68341919d46b2851fdcb691",
       "version_major": 2,
       "version_minor": 0
      },
      "text/plain": [
       "Calculating Sentiments:   0%|          | 0/910365 [00:00<?, ?it/s]"
      ]
     },
     "metadata": {},
     "output_type": "display_data"
    }
   ],
   "source": [
    "# Make a Review sentiment metric column using sentence tokeninzation\n",
    "\n",
    "# Helper function \n",
    "def calculate_sentiment(text, analyzer):\n",
    "    text = text.replace(\"\\r<br/>\", \" \")\n",
    "\n",
    "    sentence_list = nltk.tokenize.sent_tokenize(text)\n",
    "\n",
    "    if len(sentence_list) == 0 or text == \"Blank\":\n",
    "        return 0.0\n",
    "    \n",
    "    paragraphSentiments = 0.0\n",
    "    for sentence in sentence_list:\n",
    "        vs = analyzer.polarity_scores(sentence)\n",
    "        paragraphSentiments += vs[\"compound\"]\n",
    "    \n",
    "    return paragraphSentiments/len(sentence_list)\n",
    "\n",
    "analyzer = SIA()\n",
    "\n",
    "# Calculate sentiments of each review in parallel \n",
    "sentiments = Parallel(n_jobs=-1)(\n",
    "    delayed(calculate_sentiment)(comment, analyzer) for comment in tqdm(reviews['comments'], desc=\"Calculating Sentiments\")\n",
    ")"
   ]
  },
  {
   "cell_type": "code",
   "execution_count": 103,
   "metadata": {},
   "outputs": [],
   "source": [
    "# Add sentiments to reviews dataframe & drop unneeded cols\n",
    "reviews[\"average_review_sentiment_score\"] = sentiments\n",
    "\n",
    "reviews = reviews.drop(columns=[\"id\", \"comments\"])"
   ]
  },
  {
   "cell_type": "code",
   "execution_count": 104,
   "metadata": {},
   "outputs": [],
   "source": [
    "# Aggregate by listing_id so the listing get an average score\n",
    "grouped = reviews.groupby(\"listing_id\").mean().reset_index()\n",
    "\n",
    "# Merge/Join Reviews to main dataset\n",
    "df = pd.merge(df, grouped, left_on='id', right_on='listing_id', how=\"left\")\n",
    "df.fillna({'average_review_sentiment_score': 0}, inplace=True)"
   ]
  },
  {
   "cell_type": "markdown",
   "metadata": {},
   "source": [
    "## Creating Feature(s) for text from Description/Title/host about/neighborhood overview\n",
    "\n",
    "There are some more text features in this dataset that could be used to derive a numerical feature based on some sort of rating of the text. \n",
    "Using sentiment analysis is one option here, another potential option would be to use a readability metric such as Flesch-Kincaid Grade Level, Gunning Fog Index, etc.\n",
    "\n",
    "I think for the description, assigning a readability score will be best as we want the description to be as easy to read for anyone looking to rent an airbnb, include those who don't speak English as their first language.   \n",
    "\n",
    "While for Title/name of the listing I think sentiment analysis would be best since we would want to assign titles with positive sentienment higher scores as they are more likely to catch a customers eye and draw them to potetially booking that airbnb.\n",
    "Similarly for the host about I think sentiment analysis score would be a good metric too since we would want a positive sound host about to draw in more customer.  \n",
    "\n",
    "For neighborhood overview, I think it would be good do a combination of a readbility and sentiment metric, so I will take the sentiment analysis score along with a normalize Flesch Reading Ease to create a neighbourhood overview metric. \n",
    "I chose the Flesch Reading Ease metric since it is a continous variable so it will be easier to normalize and combine with the sentiment score."
   ]
  },
  {
   "cell_type": "code",
   "execution_count": null,
   "metadata": {},
   "outputs": [
    {
     "data": {
      "application/vnd.jupyter.widget-view+json": {
       "model_id": "ad413398715a43d79bb1d9ac16623962",
       "version_major": 2,
       "version_minor": 0
      },
      "text/plain": [
       "Calculating Description Readability:   0%|          | 0/42430 [00:00<?, ?it/s]"
      ]
     },
     "metadata": {},
     "output_type": "display_data"
    }
   ],
   "source": [
    "# Helper Functions, norm parameter is used so that we can combine the readability score with the normalized sentiment score\n",
    "# Norm makes the readbility score normalize nicely when normalizing between -1 and 1, \n",
    "# so that a Blank neighbourhood overview gets combined review + sentiment score of zero\n",
    "def calculate_readability(text, norm): \n",
    "    text = text.replace(\"\\r<br/>\", \" \")\n",
    "    if text == \"Blank\" and norm:\n",
    "        return 50.0\n",
    "    if text == \"Blank\":\n",
    "        return 0.0\n",
    "    return max(min(100.0, flesch_reading_ease(text)), 0.0) \n",
    "\n",
    "# Calculate Readability of description, \n",
    "desc_scores = Parallel(n_jobs=-1)(\n",
    "    delayed(calculate_readability)(desc, False) for desc in tqdm(df[\"description\"], desc=\"Calculating Description Readability\")\n",
    ")\n",
    "\n",
    "df[\"description_FRES_score\"] = desc_scores"
   ]
  },
  {
   "cell_type": "code",
   "execution_count": 106,
   "metadata": {},
   "outputs": [
    {
     "data": {
      "application/vnd.jupyter.widget-view+json": {
       "model_id": "de1c786c4d4940a29975fb5489b5c92a",
       "version_major": 2,
       "version_minor": 0
      },
      "text/plain": [
       "Calculating Title Sentiments:   0%|          | 0/42430 [00:00<?, ?it/s]"
      ]
     },
     "metadata": {},
     "output_type": "display_data"
    }
   ],
   "source": [
    "# Sentiment for title\n",
    "analyzer = SIA()\n",
    "title_sentiments =  Parallel(n_jobs=-1)(\n",
    "    delayed(calculate_sentiment)(title, analyzer) for title in tqdm(df['name'], desc=\"Calculating Title Sentiments\")\n",
    ")\n",
    "\n",
    "df[\"title_sentiment_score\"] = title_sentiments"
   ]
  },
  {
   "cell_type": "code",
   "execution_count": 107,
   "metadata": {},
   "outputs": [
    {
     "data": {
      "application/vnd.jupyter.widget-view+json": {
       "model_id": "e2c030b9c82941f598a3ec96e1d93e60",
       "version_major": 2,
       "version_minor": 0
      },
      "text/plain": [
       "Calculating host about Sentiments:   0%|          | 0/42430 [00:00<?, ?it/s]"
      ]
     },
     "metadata": {},
     "output_type": "display_data"
    }
   ],
   "source": [
    "# Sentiment for host about\n",
    "host_about_sentiments =  Parallel(n_jobs=-1)(\n",
    "    delayed(calculate_sentiment)(title, analyzer) for title in tqdm(df[\"host_about\"], desc=\"Calculating host about Sentiments\")\n",
    ")\n",
    "\n",
    "df[\"host_about_sentiment_score\"] = host_about_sentiments"
   ]
  },
  {
   "cell_type": "code",
   "execution_count": 108,
   "metadata": {},
   "outputs": [
    {
     "data": {
      "application/vnd.jupyter.widget-view+json": {
       "model_id": "e672600f8e3e46cb82345ae6cee580bf",
       "version_major": 2,
       "version_minor": 0
      },
      "text/plain": [
       "Calculating Neighbourhood Sentiments:   0%|          | 0/42430 [00:00<?, ?it/s]"
      ]
     },
     "metadata": {},
     "output_type": "display_data"
    },
    {
     "data": {
      "application/vnd.jupyter.widget-view+json": {
       "model_id": "77618f01f29b42edbc47dfad4f9c2be6",
       "version_major": 2,
       "version_minor": 0
      },
      "text/plain": [
       "Calculating Neighbourhood Readability:   0%|          | 0/42430 [00:00<?, ?it/s]"
      ]
     },
     "metadata": {},
     "output_type": "display_data"
    }
   ],
   "source": [
    "# Combined metric for neighbourhood overview\n",
    "neighbourhood_sentiments =  Parallel(n_jobs=-1)(\n",
    "    delayed(calculate_sentiment)(overview, analyzer) for overview in tqdm(df['neighborhood_overview'], desc=\"Calculating Neighbourhood Sentiments\")\n",
    ")\n",
    "\n",
    "neighbourhood_readability =  Parallel(n_jobs=-1)(\n",
    "    delayed(calculate_readability)(overview, True) for overview in tqdm(df[\"neighborhood_overview\"], desc=\"Calculating Neighbourhood Readability\")\n",
    ")\n",
    "\n",
    "\n",
    "# Normalize readability between -1 and 1 \n",
    "min_val = min(neighbourhood_readability)\n",
    "max_val = max(neighbourhood_readability)\n",
    "\n",
    "neighbourhood_readability = [(2 * (x - min_val) / (max_val - min_val)) - 1 for x in neighbourhood_readability]\n",
    "\n",
    "# Combine metrics using average\n",
    "df[\"neighborhood_overview_score\"] = [(a + b) / 2 for a, b in zip(neighbourhood_sentiments, neighbourhood_readability)]"
   ]
  },
  {
   "cell_type": "code",
   "execution_count": 110,
   "metadata": {},
   "outputs": [],
   "source": [
    "# Drop columns that we no longer need & save the final dataset\n",
    "# 'name', 'description', 'neighborhood_overview', 'picture_url', 'host_name', 'host_about', 'host_verifications', 'bathrooms_text', 'amenities', 'listing_id',\n",
    "# df = pd.read_csv(\"Datasets/AirbnbData/Feature_Engineered_Airbnb.csv\")\n",
    "\n",
    "# df.drop(columns=['name', 'description', 'neighborhood_overview', 'picture_url', 'host_name', 'host_about', 'host_verifications', 'bathrooms_text', 'amenities', 'listing_id'], inplace=True)\n",
    "\n",
    "# df.to_csv(\"Datasets/AirbnbData/Feature_Engineered_Airbnb.csv\", index=False)"
   ]
  },
  {
   "cell_type": "markdown",
   "metadata": {},
   "source": [
    "## Extra, Not used in Final Analysis: Creating a Feature Based on a rating of listing photos\n",
    "\n",
    "Each of the listings has picture url which is a photo the user sees when scrolling through potential listings, I think a feature that assigns a numerical value to these photos could be useful in our later analysis. \n",
    "EveryPixel has two models for scoring Images, User Generated Content (UGC) photo scoring and Stock photo scoring:  \n",
    "\n",
    "https://labs.everypixel.com/help#article_5  \n",
    "https://labs.everypixel.com/help#article_4  \n",
    "\n",
    "I will be using their API to create a new column that rates the photo, I chose to use the UCG scoring based on the description of the score:   \n",
    "\"This model is designed to score user photos taken with both a professional camera and a smartphone camera. It doesn't evaluate the action and doesn't measure how cool or beautiful a person or object looks in a photo. It only cares about technical parts like brightness, contrast, noise, and so on. The service is not designed to rate historical photos, illustrations, or 3D visualizations.\"\n",
    "\n",
    "I think this score is more relevant than the stock photo score since it will give higher scores to photos that good brightness, contrast and low noise which would be important for a customer viewing these photos to decide on a listing. The stock photo score puts weight more on  aesthetics and style rather than if a photo is clean and clear.\n",
    "\n",
    "Another Option would have been to use a pre trained NIMA neural network model:   \n",
    "https://arxiv.org/pdf/1709.05424  \n",
    "https://github.com/idealo/image-quality-assessment?tab=readme-ov-file  \n",
    "\n",
    "However, I was not able to find a implementation that uses urls, meaning we would have to download around 40k images and then run the model, which would end up taking too much time and end up using too much storage.\n",
    "\n",
    "**NOTE: After testing below, I found that based on some samples that the picture scores do not correlate much if at all with either of the variables we are trying to predict, so I am choosing to not go through with calculating scores for the rest of the dataset**  \n",
    "\n",
    "\n",
    "**Please note that this service requires an API key and requires payment if sending more than 500 requests, to run commented out code you will need to create an account on Everypixel**"
   ]
  },
  {
   "cell_type": "code",
   "execution_count": 113,
   "metadata": {},
   "outputs": [],
   "source": [
    "# Test dataframe using a free requests to check if pictures score correlate to predicted columns, \n",
    "# Randomly sampled around 800 data points\n",
    "test_df = pd.read_csv(\"Datasets/AirbnbData/Test_pictues.csv\")"
   ]
  },
  {
   "cell_type": "code",
   "execution_count": null,
   "metadata": {},
   "outputs": [
    {
     "data": {
      "text/plain": [
       "{'whiskers': [<matplotlib.lines.Line2D at 0x1d5c49408f0>,\n",
       "  <matplotlib.lines.Line2D at 0x1d5c4940a70>],\n",
       " 'caps': [<matplotlib.lines.Line2D at 0x1d5c4940d40>,\n",
       "  <matplotlib.lines.Line2D at 0x1d5c4941040>],\n",
       " 'boxes': [<matplotlib.lines.Line2D at 0x1d5c49406e0>],\n",
       " 'medians': [<matplotlib.lines.Line2D at 0x1d5c4941370>],\n",
       " 'fliers': [<matplotlib.lines.Line2D at 0x1d5c4941610>],\n",
       " 'means': []}"
      ]
     },
     "execution_count": 32,
     "metadata": {},
     "output_type": "execute_result"
    },
    {
     "data": {
      "image/png": "[encoded data removed]",
      "text/plain": [
       "<Figure size 640x480 with 1 Axes>"
      ]
     },
     "metadata": {},
     "output_type": "display_data"
    }
   ],
   "source": [
    "# Checking if it is useful to calculate picture scores \n",
    "# Plot Distributions of the variables \n",
    "plt.boxplot(test_df[\"picture_scores\"])"
   ]
  },
  {
   "cell_type": "code",
   "execution_count": null,
   "metadata": {},
   "outputs": [
    {
     "data": {
      "text/html": [
       "<div>\n",
       "<style scoped>\n",
       "    .dataframe tbody tr th:only-of-type {\n",
       "        vertical-align: middle;\n",
       "    }\n",
       "\n",
       "    .dataframe tbody tr th {\n",
       "        vertical-align: top;\n",
       "    }\n",
       "\n",
       "    .dataframe thead th {\n",
       "        text-align: right;\n",
       "    }\n",
       "</style>\n",
       "<table border=\"1\" class=\"dataframe\">\n",
       "  <thead>\n",
       "    <tr style=\"text-align: right;\">\n",
       "      <th></th>\n",
       "      <th>price</th>\n",
       "      <th>host_is_superhost</th>\n",
       "      <th>picture_scores</th>\n",
       "    </tr>\n",
       "  </thead>\n",
       "  <tbody>\n",
       "    <tr>\n",
       "      <th>price</th>\n",
       "      <td>1.000000</td>\n",
       "      <td>-0.030025</td>\n",
       "      <td>0.003432</td>\n",
       "    </tr>\n",
       "    <tr>\n",
       "      <th>host_is_superhost</th>\n",
       "      <td>-0.030025</td>\n",
       "      <td>1.000000</td>\n",
       "      <td>0.110237</td>\n",
       "    </tr>\n",
       "    <tr>\n",
       "      <th>picture_scores</th>\n",
       "      <td>0.003432</td>\n",
       "      <td>0.110237</td>\n",
       "      <td>1.000000</td>\n",
       "    </tr>\n",
       "  </tbody>\n",
       "</table>\n",
       "</div>"
      ],
      "text/plain": [
       "                      price  host_is_superhost  picture_scores\n",
       "price              1.000000          -0.030025        0.003432\n",
       "host_is_superhost -0.030025           1.000000        0.110237\n",
       "picture_scores     0.003432           0.110237        1.000000"
      ]
     },
     "execution_count": 33,
     "metadata": {},
     "output_type": "execute_result"
    }
   ],
   "source": [
    "test_df.corr()"
   ]
  },
  {
   "cell_type": "code",
   "execution_count": null,
   "metadata": {},
   "outputs": [
    {
     "data": {
      "text/plain": [
       "<matplotlib.collections.PathCollection at 0x1d5a07271d0>"
      ]
     },
     "execution_count": 47,
     "metadata": {},
     "output_type": "execute_result"
    },
    {
     "data": {
      "image/png": "[encoded data removed]",
      "text/plain": [
       "<Figure size 640x480 with 1 Axes>"
      ]
     },
     "metadata": {},
     "output_type": "display_data"
    }
   ],
   "source": [
    "plt.scatter(test_df[\"picture_scores\"] , test_df[\"host_is_superhost\"])"
   ]
  },
  {
   "cell_type": "markdown",
   "metadata": {},
   "source": [
    "Can see from the plots above that there isn't any clear or strong realtion ship between the repsonse and the qualtiy of a picture based on the scoring from this API"
   ]
  },
  {
   "cell_type": "code",
   "execution_count": null,
   "metadata": {},
   "outputs": [],
   "source": [
    "# Code to calculate pictures scores if anyone is interested in using for a different purpose\n",
    "\n",
    "# # Load in dataset to do this part seperately\n",
    "# df = pd.read_csv(\"Datasets/AirbnbData/Feature_Engineered_Airbnb.csv\")\n",
    "\n",
    "# # API keys\n",
    "# client_id = ''\n",
    "# client_secret = ''\n",
    "\n",
    "# def calculate_photo_score(photo_url):\n",
    "#     params = {'url': photo_url}\n",
    "    \n",
    "#     quality_ugc = requests.get('https://api.everypixel.com/v1/quality_ugc', params=params, auth=(client_id, client_secret)).json()\n",
    "#     print(quality_ugc)\n",
    "#     if quality_ugc[\"status\"] == \"ok\":\n",
    "#         return quality_ugc[\"quality\"][\"score\"]\n",
    "    \n",
    "#     return 0.0\n",
    "\n",
    " # picture_scores = Parallel(n_jobs=-1)(\n",
    " #     delayed(calculate_photo_score)(picture) for picture in tqdm(df[\"picture_url\"], desc=\"Calculating picture scores\")\n",
    " # )\n",
    "\n",
    "# Add pictures scores to dataframe\n",
    "# df[\"picture_scores\"] = picture_scores"
   ]
  }
 ],
 "metadata": {
  "kernelspec": {
   "display_name": "Python 3",
   "language": "python",
   "name": "python3"
  },
  "language_info": {
   "codemirror_mode": {
    "name": "ipython",
    "version": 3
   },
   "file_extension": ".py",
   "mimetype": "text/x-python",
   "name": "python",
   "nbconvert_exporter": "python",
   "pygments_lexer": "ipython3",
   "version": "3.12.1"
  }
 },
 "nbformat": 4,
 "nbformat_minor": 2
}
