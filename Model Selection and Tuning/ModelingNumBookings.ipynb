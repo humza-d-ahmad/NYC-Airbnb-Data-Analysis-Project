{
 "cells": [
  {
   "cell_type": "markdown",
   "metadata": {},
   "source": [
    "# Testing Models and Model Scores"
   ]
  },
  {
   "cell_type": "markdown",
   "metadata": {},
   "source": [
    "### Methods"
   ]
  },
  {
   "cell_type": "code",
   "execution_count": 19,
   "metadata": {},
   "outputs": [],
   "source": [
    "# imports\n",
    "\n",
    "import pandas as pd\n",
    "import numpy as np\n",
    "import seaborn as sns\n",
    "import matplotlib.pyplot as plt\n",
    "\n",
    "\n",
    "# Machine Learning\n",
    "\n",
    "from sklearn.model_selection import train_test_split\n",
    "from sklearn.metrics import root_mean_squared_error, mean_absolute_error, r2_score\n",
    "from catboost import CatBoostRegressor\n"
   ]
  },
  {
   "cell_type": "markdown",
   "metadata": {},
   "source": [
    "### Loading Data"
   ]
  },
  {
   "cell_type": "code",
   "execution_count": 20,
   "metadata": {},
   "outputs": [
    {
     "data": {
      "text/html": [
       "<div>\n",
       "<style scoped>\n",
       "    .dataframe tbody tr th:only-of-type {\n",
       "        vertical-align: middle;\n",
       "    }\n",
       "\n",
       "    .dataframe tbody tr th {\n",
       "        vertical-align: top;\n",
       "    }\n",
       "\n",
       "    .dataframe thead th {\n",
       "        text-align: right;\n",
       "    }\n",
       "</style>\n",
       "<table border=\"1\" class=\"dataframe\">\n",
       "  <thead>\n",
       "    <tr style=\"text-align: right;\">\n",
       "      <th></th>\n",
       "      <th>Total Units</th>\n",
       "      <th>Year Built</th>\n",
       "      <th>Gross SqFt</th>\n",
       "      <th>Estimated Gross Income</th>\n",
       "      <th>Estimated Expense</th>\n",
       "      <th>Net Operating Income</th>\n",
       "      <th>Full Market Value</th>\n",
       "      <th>Report Year</th>\n",
       "      <th>id</th>\n",
       "      <th>host_id</th>\n",
       "      <th>...</th>\n",
       "      <th>coffee</th>\n",
       "      <th>view</th>\n",
       "      <th>average_review_sentiment_score</th>\n",
       "      <th>description_FRES_score</th>\n",
       "      <th>title_sentiment_score</th>\n",
       "      <th>host_about_sentiment_score</th>\n",
       "      <th>neighborhood_overview_score</th>\n",
       "      <th>bookings_per_year</th>\n",
       "      <th>estimated_ococcupancy_rate</th>\n",
       "      <th>log_price</th>\n",
       "    </tr>\n",
       "  </thead>\n",
       "  <tbody>\n",
       "    <tr>\n",
       "      <th>0</th>\n",
       "      <td>33.123882</td>\n",
       "      <td>1976.299663</td>\n",
       "      <td>38825.366808</td>\n",
       "      <td>9.153213e+05</td>\n",
       "      <td>3.368985e+05</td>\n",
       "      <td>5.784228e+05</td>\n",
       "      <td>4.428691e+06</td>\n",
       "      <td>2015.691394</td>\n",
       "      <td>739333866230665371</td>\n",
       "      <td>3013025</td>\n",
       "      <td>...</td>\n",
       "      <td>False</td>\n",
       "      <td>False</td>\n",
       "      <td>0.000000</td>\n",
       "      <td>73.03</td>\n",
       "      <td>0.58590</td>\n",
       "      <td>0.000000</td>\n",
       "      <td>0.0</td>\n",
       "      <td>0.00</td>\n",
       "      <td>0.000000</td>\n",
       "      <td>4.488636</td>\n",
       "    </tr>\n",
       "    <tr>\n",
       "      <th>1</th>\n",
       "      <td>18.532075</td>\n",
       "      <td>1990.192453</td>\n",
       "      <td>17624.192453</td>\n",
       "      <td>3.774487e+05</td>\n",
       "      <td>1.334875e+05</td>\n",
       "      <td>2.439612e+05</td>\n",
       "      <td>1.853208e+01</td>\n",
       "      <td>2015.558491</td>\n",
       "      <td>572612125615500056</td>\n",
       "      <td>358089614</td>\n",
       "      <td>...</td>\n",
       "      <td>True</td>\n",
       "      <td>False</td>\n",
       "      <td>0.479152</td>\n",
       "      <td>77.53</td>\n",
       "      <td>0.23765</td>\n",
       "      <td>0.000000</td>\n",
       "      <td>0.0</td>\n",
       "      <td>5.04</td>\n",
       "      <td>0.069041</td>\n",
       "      <td>3.806662</td>\n",
       "    </tr>\n",
       "    <tr>\n",
       "      <th>2</th>\n",
       "      <td>181.050870</td>\n",
       "      <td>1990.666667</td>\n",
       "      <td>185795.860776</td>\n",
       "      <td>2.733890e+06</td>\n",
       "      <td>1.407035e+06</td>\n",
       "      <td>1.326855e+06</td>\n",
       "      <td>9.316653e+06</td>\n",
       "      <td>2015.752343</td>\n",
       "      <td>45267941</td>\n",
       "      <td>39162543</td>\n",
       "      <td>...</td>\n",
       "      <td>False</td>\n",
       "      <td>False</td>\n",
       "      <td>0.000000</td>\n",
       "      <td>0.00</td>\n",
       "      <td>0.00000</td>\n",
       "      <td>0.000000</td>\n",
       "      <td>0.0</td>\n",
       "      <td>0.00</td>\n",
       "      <td>0.000000</td>\n",
       "      <td>4.672829</td>\n",
       "    </tr>\n",
       "    <tr>\n",
       "      <th>3</th>\n",
       "      <td>89.025476</td>\n",
       "      <td>1955.362911</td>\n",
       "      <td>105179.984234</td>\n",
       "      <td>4.418728e+06</td>\n",
       "      <td>1.352718e+06</td>\n",
       "      <td>3.066010e+06</td>\n",
       "      <td>2.399522e+07</td>\n",
       "      <td>2015.336281</td>\n",
       "      <td>838141198693830649</td>\n",
       "      <td>148571080</td>\n",
       "      <td>...</td>\n",
       "      <td>False</td>\n",
       "      <td>False</td>\n",
       "      <td>0.000000</td>\n",
       "      <td>0.00</td>\n",
       "      <td>0.31820</td>\n",
       "      <td>0.403333</td>\n",
       "      <td>0.0</td>\n",
       "      <td>0.00</td>\n",
       "      <td>0.000000</td>\n",
       "      <td>4.941642</td>\n",
       "    </tr>\n",
       "    <tr>\n",
       "      <th>4</th>\n",
       "      <td>33.123882</td>\n",
       "      <td>1976.299663</td>\n",
       "      <td>38825.366808</td>\n",
       "      <td>9.153213e+05</td>\n",
       "      <td>3.368985e+05</td>\n",
       "      <td>5.784228e+05</td>\n",
       "      <td>4.428691e+06</td>\n",
       "      <td>2015.691394</td>\n",
       "      <td>1082660771919357919</td>\n",
       "      <td>394869975</td>\n",
       "      <td>...</td>\n",
       "      <td>False</td>\n",
       "      <td>False</td>\n",
       "      <td>0.000000</td>\n",
       "      <td>85.69</td>\n",
       "      <td>0.00000</td>\n",
       "      <td>0.000000</td>\n",
       "      <td>0.0</td>\n",
       "      <td>0.00</td>\n",
       "      <td>0.000000</td>\n",
       "      <td>5.828946</td>\n",
       "    </tr>\n",
       "  </tbody>\n",
       "</table>\n",
       "<p>5 rows × 58 columns</p>\n",
       "</div>"
      ],
      "text/plain": [
       "   Total Units   Year Built     Gross SqFt  Estimated Gross Income  \\\n",
       "0    33.123882  1976.299663   38825.366808            9.153213e+05   \n",
       "1    18.532075  1990.192453   17624.192453            3.774487e+05   \n",
       "2   181.050870  1990.666667  185795.860776            2.733890e+06   \n",
       "3    89.025476  1955.362911  105179.984234            4.418728e+06   \n",
       "4    33.123882  1976.299663   38825.366808            9.153213e+05   \n",
       "\n",
       "   Estimated Expense  Net Operating Income  Full Market Value  Report Year  \\\n",
       "0       3.368985e+05          5.784228e+05       4.428691e+06  2015.691394   \n",
       "1       1.334875e+05          2.439612e+05       1.853208e+01  2015.558491   \n",
       "2       1.407035e+06          1.326855e+06       9.316653e+06  2015.752343   \n",
       "3       1.352718e+06          3.066010e+06       2.399522e+07  2015.336281   \n",
       "4       3.368985e+05          5.784228e+05       4.428691e+06  2015.691394   \n",
       "\n",
       "                    id    host_id  ... coffee   view  \\\n",
       "0   739333866230665371    3013025  ...  False  False   \n",
       "1   572612125615500056  358089614  ...   True  False   \n",
       "2             45267941   39162543  ...  False  False   \n",
       "3   838141198693830649  148571080  ...  False  False   \n",
       "4  1082660771919357919  394869975  ...  False  False   \n",
       "\n",
       "   average_review_sentiment_score  description_FRES_score  \\\n",
       "0                        0.000000                   73.03   \n",
       "1                        0.479152                   77.53   \n",
       "2                        0.000000                    0.00   \n",
       "3                        0.000000                    0.00   \n",
       "4                        0.000000                   85.69   \n",
       "\n",
       "   title_sentiment_score  host_about_sentiment_score  \\\n",
       "0                0.58590                    0.000000   \n",
       "1                0.23765                    0.000000   \n",
       "2                0.00000                    0.000000   \n",
       "3                0.31820                    0.403333   \n",
       "4                0.00000                    0.000000   \n",
       "\n",
       "   neighborhood_overview_score  bookings_per_year  estimated_ococcupancy_rate  \\\n",
       "0                          0.0               0.00                    0.000000   \n",
       "1                          0.0               5.04                    0.069041   \n",
       "2                          0.0               0.00                    0.000000   \n",
       "3                          0.0               0.00                    0.000000   \n",
       "4                          0.0               0.00                    0.000000   \n",
       "\n",
       "  log_price  \n",
       "0  4.488636  \n",
       "1  3.806662  \n",
       "2  4.672829  \n",
       "3  4.941642  \n",
       "4  5.828946  \n",
       "\n",
       "[5 rows x 58 columns]"
      ]
     },
     "execution_count": 20,
     "metadata": {},
     "output_type": "execute_result"
    }
   ],
   "source": [
    "# load data\n",
    "\n",
    "df = pd.read_csv(\"Merged_modeling_income.csv\")\n",
    "df.head()"
   ]
  },
  {
   "cell_type": "code",
   "execution_count": 21,
   "metadata": {},
   "outputs": [
    {
     "data": {
      "text/plain": [
       "(42430, 58)"
      ]
     },
     "execution_count": 21,
     "metadata": {},
     "output_type": "execute_result"
    }
   ],
   "source": [
    "df.shape"
   ]
  },
  {
   "cell_type": "code",
   "execution_count": 22,
   "metadata": {},
   "outputs": [],
   "source": [
    "# Convert Bool columns to int to avoid any errors\n",
    "df[['oven','stove', 'refrigerator', 'air conditioning', 'tv', 'parking',\n",
    "    'gym/exercise equipment', 'pool', 'hygiene products', 'laundry',\n",
    "    'coffee', 'view']] = df[['oven','stove', 'refrigerator', 'air conditioning', 'tv', 'parking',\n",
    "                            'gym/exercise equipment', 'pool', 'hygiene products', 'laundry',\n",
    "                            'coffee', 'view']].astype(int)"
   ]
  },
  {
   "cell_type": "code",
   "execution_count": 23,
   "metadata": {},
   "outputs": [],
   "source": [
    "df_condensed = df.drop(columns=['id', 'host_id', 'host_since', 'neighbourhood_cleansed', 'host_listings_count', \"host_total_listings_count\", \"host_is_superhost\"])"
   ]
  },
  {
   "cell_type": "code",
   "execution_count": 24,
   "metadata": {},
   "outputs": [],
   "source": [
    "df_train, df_test = train_test_split(df_condensed, test_size=0.2, random_state=42)"
   ]
  },
  {
   "cell_type": "code",
   "execution_count": 25,
   "metadata": {},
   "outputs": [
    {
     "data": {
      "text/plain": [
       "Index(['Total Units', 'Year Built', 'Gross SqFt', 'Estimated Gross Income',\n",
       "       'Estimated Expense', 'Net Operating Income', 'Full Market Value',\n",
       "       'Report Year', 'id', 'host_id', 'host_since', 'host_response_time',\n",
       "       'host_response_rate', 'host_acceptance_rate', 'host_is_superhost',\n",
       "       'host_listings_count', 'host_total_listings_count',\n",
       "       'host_has_profile_pic', 'host_identity_verified',\n",
       "       'neighbourhood_cleansed', 'neighbourhood_group_cleansed', 'room_type',\n",
       "       'accommodates', 'bathrooms', 'bedrooms', 'beds', 'price',\n",
       "       'minimum_nights', 'maximum_nights', 'has_availability',\n",
       "       'number_of_reviews', 'review_scores_rating', 'license',\n",
       "       'instant_bookable', 'calculated_host_listings_count_entire_homes',\n",
       "       'calculated_host_listings_count_private_rooms',\n",
       "       'calculated_host_listings_count_shared_rooms', 'num_amenities', 'oven',\n",
       "       'stove', 'refrigerator', 'air conditioning', 'tv', 'parking',\n",
       "       'gym/exercise equipment', 'pool', 'hygiene products', 'laundry',\n",
       "       'coffee', 'view', 'average_review_sentiment_score',\n",
       "       'description_FRES_score', 'title_sentiment_score',\n",
       "       'host_about_sentiment_score', 'neighborhood_overview_score',\n",
       "       'bookings_per_year', 'estimated_ococcupancy_rate', 'log_price'],\n",
       "      dtype='object')"
      ]
     },
     "execution_count": 25,
     "metadata": {},
     "output_type": "execute_result"
    }
   ],
   "source": [
    "df.columns"
   ]
  },
  {
   "cell_type": "code",
   "execution_count": 26,
   "metadata": {},
   "outputs": [
    {
     "data": {
      "text/plain": [
       "Total Units                                     float64\n",
       "Year Built                                      float64\n",
       "Gross SqFt                                      float64\n",
       "Estimated Gross Income                          float64\n",
       "Estimated Expense                               float64\n",
       "Net Operating Income                            float64\n",
       "Full Market Value                               float64\n",
       "Report Year                                     float64\n",
       "id                                                int64\n",
       "host_id                                           int64\n",
       "host_since                                       object\n",
       "host_response_time                               object\n",
       "host_response_rate                              float64\n",
       "host_acceptance_rate                            float64\n",
       "host_is_superhost                                 int64\n",
       "host_listings_count                             float64\n",
       "host_total_listings_count                       float64\n",
       "host_has_profile_pic                              int64\n",
       "host_identity_verified                            int64\n",
       "neighbourhood_cleansed                           object\n",
       "neighbourhood_group_cleansed                     object\n",
       "room_type                                        object\n",
       "accommodates                                      int64\n",
       "bathrooms                                       float64\n",
       "bedrooms                                        float64\n",
       "beds                                            float64\n",
       "price                                           float64\n",
       "minimum_nights                                    int64\n",
       "maximum_nights                                    int64\n",
       "has_availability                                  int64\n",
       "number_of_reviews                                 int64\n",
       "review_scores_rating                            float64\n",
       "license                                          object\n",
       "instant_bookable                                  int64\n",
       "calculated_host_listings_count_entire_homes       int64\n",
       "calculated_host_listings_count_private_rooms      int64\n",
       "calculated_host_listings_count_shared_rooms       int64\n",
       "num_amenities                                     int64\n",
       "oven                                              int64\n",
       "stove                                             int64\n",
       "refrigerator                                      int64\n",
       "air conditioning                                  int64\n",
       "tv                                                int64\n",
       "parking                                           int64\n",
       "gym/exercise equipment                            int64\n",
       "pool                                              int64\n",
       "hygiene products                                  int64\n",
       "laundry                                           int64\n",
       "coffee                                            int64\n",
       "view                                              int64\n",
       "average_review_sentiment_score                  float64\n",
       "description_FRES_score                          float64\n",
       "title_sentiment_score                           float64\n",
       "host_about_sentiment_score                      float64\n",
       "neighborhood_overview_score                     float64\n",
       "bookings_per_year                               float64\n",
       "estimated_ococcupancy_rate                      float64\n",
       "log_price                                       float64\n",
       "dtype: object"
      ]
     },
     "execution_count": 26,
     "metadata": {},
     "output_type": "execute_result"
    }
   ],
   "source": [
    "df.dtypes"
   ]
  },
  {
   "cell_type": "code",
   "execution_count": 27,
   "metadata": {},
   "outputs": [],
   "source": [
    "# create X and y for train data\n",
    "X_train = df_train.drop(columns=[\"bookings_per_year\"])\n",
    "y_train = df_train[\"bookings_per_year\"]\n",
    "\n",
    "# create X and y for test data\n",
    "X_test = df_test.drop(columns=[\"bookings_per_year\"])\n",
    "y_test = df_test[\"bookings_per_year\"]"
   ]
  },
  {
   "cell_type": "code",
   "execution_count": 28,
   "metadata": {},
   "outputs": [],
   "source": [
    "y_log = np.log1p(y_train)"
   ]
  },
  {
   "cell_type": "code",
   "execution_count": 29,
   "metadata": {},
   "outputs": [
    {
     "name": "stdout",
     "output_type": "stream",
     "text": [
      "0:\tlearn: 1.3745924\ttest: 1.3876559\tbest: 1.3876559 (0)\ttotal: 13.3ms\tremaining: 1m 6s\n",
      "100:\tlearn: 0.0612848\ttest: 0.0683502\tbest: 0.0683502 (100)\ttotal: 1.06s\tremaining: 51.3s\n",
      "200:\tlearn: 0.0526568\ttest: 0.0639533\tbest: 0.0639533 (200)\ttotal: 2.19s\tremaining: 52.4s\n",
      "300:\tlearn: 0.0461879\ttest: 0.0605282\tbest: 0.0605282 (300)\ttotal: 3.26s\tremaining: 50.8s\n",
      "400:\tlearn: 0.0411912\ttest: 0.0585986\tbest: 0.0585986 (400)\ttotal: 4.18s\tremaining: 47.9s\n",
      "500:\tlearn: 0.0369892\ttest: 0.0575915\tbest: 0.0575207 (473)\ttotal: 5.09s\tremaining: 45.7s\n",
      "600:\tlearn: 0.0339135\ttest: 0.0569657\tbest: 0.0569601 (597)\ttotal: 6.01s\tremaining: 44s\n",
      "700:\tlearn: 0.0313959\ttest: 0.0567300\tbest: 0.0567300 (700)\ttotal: 6.93s\tremaining: 42.5s\n",
      "800:\tlearn: 0.0289977\ttest: 0.0566675\tbest: 0.0566089 (760)\ttotal: 7.86s\tremaining: 41.2s\n",
      "900:\tlearn: 0.0269840\ttest: 0.0565449\tbest: 0.0565102 (877)\ttotal: 8.77s\tremaining: 39.9s\n",
      "1000:\tlearn: 0.0252582\ttest: 0.0561445\tbest: 0.0561254 (961)\ttotal: 9.68s\tremaining: 38.7s\n",
      "1100:\tlearn: 0.0234925\ttest: 0.0559569\tbest: 0.0559537 (1098)\ttotal: 10.6s\tremaining: 37.5s\n",
      "1200:\tlearn: 0.0219657\ttest: 0.0556403\tbest: 0.0556334 (1193)\ttotal: 11.5s\tremaining: 36.3s\n",
      "1300:\tlearn: 0.0207067\ttest: 0.0556848\tbest: 0.0555830 (1218)\ttotal: 12.4s\tremaining: 35.2s\n",
      "1400:\tlearn: 0.0193386\ttest: 0.0555566\tbest: 0.0555344 (1391)\ttotal: 13.3s\tremaining: 34.2s\n",
      "1500:\tlearn: 0.0181535\ttest: 0.0555834\tbest: 0.0555344 (1391)\ttotal: 14.2s\tremaining: 33.1s\n",
      "1600:\tlearn: 0.0171306\ttest: 0.0554521\tbest: 0.0554479 (1579)\ttotal: 15.1s\tremaining: 32.1s\n",
      "1700:\tlearn: 0.0162765\ttest: 0.0553198\tbest: 0.0553198 (1700)\ttotal: 16s\tremaining: 31s\n",
      "1800:\tlearn: 0.0154701\ttest: 0.0553165\tbest: 0.0552830 (1755)\ttotal: 16.9s\tremaining: 30s\n",
      "1900:\tlearn: 0.0145703\ttest: 0.0553504\tbest: 0.0552774 (1882)\ttotal: 17.9s\tremaining: 29.1s\n",
      "2000:\tlearn: 0.0137479\ttest: 0.0552189\tbest: 0.0552189 (2000)\ttotal: 18.8s\tremaining: 28.2s\n",
      "2100:\tlearn: 0.0128772\ttest: 0.0551044\tbest: 0.0550911 (2091)\ttotal: 19.7s\tremaining: 27.2s\n",
      "2200:\tlearn: 0.0121104\ttest: 0.0551074\tbest: 0.0550643 (2172)\ttotal: 20.6s\tremaining: 26.3s\n",
      "2300:\tlearn: 0.0114487\ttest: 0.0550570\tbest: 0.0550533 (2298)\ttotal: 21.5s\tremaining: 25.3s\n",
      "2400:\tlearn: 0.0108725\ttest: 0.0549583\tbest: 0.0549583 (2399)\ttotal: 22.5s\tremaining: 24.3s\n",
      "2500:\tlearn: 0.0103052\ttest: 0.0549359\tbest: 0.0549350 (2499)\ttotal: 23.4s\tremaining: 23.4s\n",
      "2600:\tlearn: 0.0098492\ttest: 0.0548490\tbest: 0.0548490 (2600)\ttotal: 24.3s\tremaining: 22.4s\n",
      "2700:\tlearn: 0.0093555\ttest: 0.0548516\tbest: 0.0548235 (2665)\ttotal: 25.2s\tremaining: 21.4s\n",
      "2800:\tlearn: 0.0088846\ttest: 0.0548157\tbest: 0.0548090 (2796)\ttotal: 26.1s\tremaining: 20.5s\n",
      "2900:\tlearn: 0.0085216\ttest: 0.0547822\tbest: 0.0547822 (2900)\ttotal: 27s\tremaining: 19.5s\n",
      "3000:\tlearn: 0.0081497\ttest: 0.0547252\tbest: 0.0547205 (2983)\ttotal: 27.9s\tremaining: 18.6s\n",
      "3100:\tlearn: 0.0077599\ttest: 0.0547166\tbest: 0.0547159 (3047)\ttotal: 28.8s\tremaining: 17.6s\n",
      "3200:\tlearn: 0.0073804\ttest: 0.0546929\tbest: 0.0546869 (3199)\ttotal: 29.7s\tremaining: 16.7s\n",
      "3300:\tlearn: 0.0070866\ttest: 0.0546417\tbest: 0.0546400 (3299)\ttotal: 30.6s\tremaining: 15.8s\n",
      "3400:\tlearn: 0.0068135\ttest: 0.0546334\tbest: 0.0546292 (3398)\ttotal: 31.5s\tremaining: 14.8s\n",
      "3500:\tlearn: 0.0065585\ttest: 0.0546268\tbest: 0.0546243 (3491)\ttotal: 32.4s\tremaining: 13.9s\n",
      "3600:\tlearn: 0.0062906\ttest: 0.0546135\tbest: 0.0545919 (3562)\ttotal: 33.3s\tremaining: 12.9s\n",
      "3700:\tlearn: 0.0060638\ttest: 0.0546081\tbest: 0.0545919 (3562)\ttotal: 34.2s\tremaining: 12s\n",
      "3800:\tlearn: 0.0058529\ttest: 0.0545848\tbest: 0.0545781 (3780)\ttotal: 35.1s\tremaining: 11.1s\n",
      "3900:\tlearn: 0.0056436\ttest: 0.0545854\tbest: 0.0545757 (3888)\ttotal: 36s\tremaining: 10.2s\n",
      "4000:\tlearn: 0.0054513\ttest: 0.0545755\tbest: 0.0545742 (3990)\ttotal: 36.9s\tremaining: 9.22s\n",
      "4100:\tlearn: 0.0052418\ttest: 0.0545396\tbest: 0.0545362 (4098)\ttotal: 37.9s\tremaining: 8.3s\n",
      "4200:\tlearn: 0.0050687\ttest: 0.0545333\tbest: 0.0545306 (4196)\ttotal: 38.8s\tremaining: 7.37s\n",
      "4300:\tlearn: 0.0048963\ttest: 0.0544954\tbest: 0.0544950 (4299)\ttotal: 39.7s\tremaining: 6.45s\n",
      "4400:\tlearn: 0.0047246\ttest: 0.0544929\tbest: 0.0544864 (4366)\ttotal: 40.6s\tremaining: 5.53s\n",
      "4500:\tlearn: 0.0045597\ttest: 0.0544925\tbest: 0.0544836 (4412)\ttotal: 41.5s\tremaining: 4.6s\n",
      "4600:\tlearn: 0.0044077\ttest: 0.0545076\tbest: 0.0544832 (4535)\ttotal: 42.4s\tremaining: 3.68s\n",
      "4700:\tlearn: 0.0042714\ttest: 0.0545040\tbest: 0.0544832 (4535)\ttotal: 43.3s\tremaining: 2.76s\n",
      "4800:\tlearn: 0.0041394\ttest: 0.0545033\tbest: 0.0544832 (4535)\ttotal: 44.3s\tremaining: 1.83s\n",
      "4900:\tlearn: 0.0040077\ttest: 0.0545037\tbest: 0.0544832 (4535)\ttotal: 45.2s\tremaining: 913ms\n",
      "4999:\tlearn: 0.0038844\ttest: 0.0544845\tbest: 0.0544832 (4535)\ttotal: 46.1s\tremaining: 0us\n",
      "\n",
      "bestTest = 0.05448318889\n",
      "bestIteration = 4535\n",
      "\n",
      "Shrink model to first 4536 iterations.\n"
     ]
    },
    {
     "data": {
      "text/plain": [
       "<catboost.core.CatBoostRegressor at 0x177ceee20>"
      ]
     },
     "execution_count": 29,
     "metadata": {},
     "output_type": "execute_result"
    }
   ],
   "source": [
    "cat_feats = [\"host_response_time\", \"neighbourhood_group_cleansed\", \"room_type\", \"license\"]\n",
    "\n",
    "model = CatBoostRegressor(iterations=5000,\n",
    "                          depth=6,\n",
    "                          learning_rate=0.1,\n",
    "                          loss_function='RMSE',\n",
    "                          cat_features=cat_feats\n",
    "                          )\n",
    "\n",
    "model.fit(X_train, y_log, eval_set=(X_test, np.log1p(y_test)), early_stopping_rounds=1000, verbose=100)"
   ]
  },
  {
   "cell_type": "code",
   "execution_count": 30,
   "metadata": {},
   "outputs": [
    {
     "name": "stdout",
     "output_type": "stream",
     "text": [
      "Test Mean Absolute Error:  1.4365430829572727\n",
      "Test Root Mean Squared Error:  13.810871000098539\n",
      "Test R^2 Score:  0.8793014551058469\n"
     ]
    }
   ],
   "source": [
    "# Make predictions on the test set\n",
    "y_pred_log = model.predict(X_test)\n",
    "\n",
    "# Reverse the log transformation using np.expm1 to get the original scale\n",
    "y_pred = np.expm1(y_pred_log)\n",
    "\n",
    "# Calculate the Errors and R2\n",
    "mae = mean_absolute_error(y_test, y_pred)\n",
    "rmse = root_mean_squared_error(y_test, y_pred)\n",
    "r2 = r2_score(y_test, y_pred)\n",
    "\n",
    "# results\n",
    "print('Test Mean Absolute Error: ', mae)\n",
    "print('Test Root Mean Squared Error: ', rmse)\n",
    "print('Test R^2 Score: ', r2)"
   ]
  },
  {
   "cell_type": "code",
   "execution_count": 31,
   "metadata": {},
   "outputs": [
    {
     "data": {
      "image/png": "[encoded data removed]",
      "text/plain": [
       "<Figure size 1296x864 with 1 Axes>"
      ]
     },
     "metadata": {
      "needs_background": "light"
     },
     "output_type": "display_data"
    }
   ],
   "source": [
    "# Residuals plot\n",
    "residuals = y_test - y_pred\n",
    "\n",
    "plt.figure(figsize=(18, 12))\n",
    "plt.scatter(y_pred, residuals, color='blue', alpha=0.5)\n",
    "plt.axhline(y=0, color='red', linestyle='--')  # Line at 0\n",
    "plt.title(\"Residuals vs Predicted Values\")\n",
    "plt.xlabel(\"Predicted Values\")\n",
    "plt.ylabel(\"Residuals\")\n",
    "\n",
    "plt.xlim(0, 100)\n",
    "plt.ylim(-75, 100)\n",
    "\n",
    "plt.show()"
   ]
  },
  {
   "cell_type": "code",
   "execution_count": 32,
   "metadata": {},
   "outputs": [
    {
     "data": {
      "image/png": "[encoded data removed]",
      "text/plain": [
       "<Figure size 1296x864 with 1 Axes>"
      ]
     },
     "metadata": {
      "needs_background": "light"
     },
     "output_type": "display_data"
    }
   ],
   "source": [
    "\n",
    "# Scatter plot of Actual vs Predicted\n",
    "plt.figure(figsize=(18, 12))\n",
    "plt.scatter(y_test, y_pred, color='blue', alpha=0.5)\n",
    "plt.plot([min(y_test), max(y_test)], [min(y_test), max(y_test)], color='red', linestyle='--')  # Perfect prediction line\n",
    "plt.title(\"Actual vs Predicted Values\")\n",
    "plt.xlabel(\"Actual Values\")\n",
    "plt.ylabel(\"Predicted Values\")\n",
    "\n",
    "plt.xlim(0, 100)\n",
    "plt.ylim(0, 100)\n",
    "\n",
    "plt.show()\n"
   ]
  },
  {
   "cell_type": "code",
   "execution_count": 33,
   "metadata": {},
   "outputs": [
    {
     "name": "stdout",
     "output_type": "stream",
     "text": [
      "                       Feature  Importance\n",
      "48  estimated_ococcupancy_rate   92.506167\n"
     ]
    }
   ],
   "source": [
    "# Get feature importance\n",
    "importances = model.get_feature_importance()\n",
    "\n",
    "# Create a DataFrame to view the feature importances\n",
    "feature_importance_df = pd.DataFrame({\n",
    "    'Feature': X_train.columns,\n",
    "    'Importance': importances\n",
    "})\n",
    "\n",
    "# Sort by importance\n",
    "feature_importance_df = feature_importance_df.sort_values(by='Importance', ascending=False)\n",
    "\n",
    "print(feature_importance_df.head(1))"
   ]
  },
  {
   "cell_type": "code",
   "execution_count": 34,
   "metadata": {},
   "outputs": [
    {
     "data": {
      "text/plain": [
       "15.196621258543484"
      ]
     },
     "execution_count": 34,
     "metadata": {},
     "output_type": "execute_result"
    }
   ],
   "source": [
    "df[\"bookings_per_year\"].mean()\n",
    "\n",
    "# Just for more context"
   ]
  }
 ],
 "metadata": {
  "kernelspec": {
   "display_name": "Python 3",
   "language": "python",
   "name": "python3"
  },
  "language_info": {
   "codemirror_mode": {
    "name": "ipython",
    "version": 3
   },
   "file_extension": ".py",
   "mimetype": "text/x-python",
   "name": "python",
   "nbconvert_exporter": "python",
   "pygments_lexer": "ipython3",
   "version": "3.9.10"
  }
 },
 "nbformat": 4,
 "nbformat_minor": 2
}
